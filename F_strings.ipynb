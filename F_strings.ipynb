{
  "nbformat": 4,
  "nbformat_minor": 0,
  "metadata": {
    "colab": {
      "provenance": [],
      "authorship_tag": "ABX9TyOD3RHpsEEtEtI5q8nOak0Q",
      "include_colab_link": true
    },
    "kernelspec": {
      "name": "python3",
      "display_name": "Python 3"
    },
    "language_info": {
      "name": "python"
    }
  },
  "cells": [
    {
      "cell_type": "markdown",
      "metadata": {
        "id": "view-in-github",
        "colab_type": "text"
      },
      "source": [
        "<a href=\"https://colab.research.google.com/github/shyamck14/shyamck14/blob/master/F_strings.ipynb\" target=\"_parent\"><img src=\"https://colab.research.google.com/assets/colab-badge.svg\" alt=\"Open In Colab\"/></a>"
      ]
    },
    {
      "cell_type": "markdown",
      "source": [
        "\n",
        "# **F-strings**\n",
        "\n",
        "* f-strings or formatted strings\n",
        "* it provides a way to embed expressions inside string literals using curly braces {}\n",
        "* they are concise and readable way to format strings in python\n",
        "* f-strings is a literal string , evaluated at runtime , not a a constant value\n",
        "* contains expressions inside braces\n",
        "* expressions are replaced with values\n",
        "* string can be formatted\n",
        "* can embed arbitrary python expressions"
      ],
      "metadata": {
        "id": "kZaC-Xcnarig"
      }
    },
    {
      "cell_type": "code",
      "execution_count": 1,
      "metadata": {
        "colab": {
          "base_uri": "https://localhost:8080/"
        },
        "id": "wpbmUJGMagVf",
        "outputId": "3d621064-453a-4cca-edaf-db44a023cded"
      },
      "outputs": [
        {
          "output_type": "stream",
          "name": "stdout",
          "text": [
            "Hello,My name is John and I am 30 years old.\n"
          ]
        }
      ],
      "source": [
        "# basic usage\n",
        "\n",
        "name = \"John\"\n",
        "age = 30\n",
        "greeting = f\"Hello,My name is {name} and I am {age} years old.\"\n",
        "print(greeting)\n"
      ]
    },
    {
      "cell_type": "code",
      "source": [
        "# expressions inside f-strings\n",
        "\n",
        "width = 10\n",
        "height = 5\n",
        "area = f\"The area of a rectangle with width {width} and height {height} is {width * height} square units.\"\n",
        "print(area)"
      ],
      "metadata": {
        "colab": {
          "base_uri": "https://localhost:8080/"
        },
        "id": "D2GPBGPGdjze",
        "outputId": "e60a5924-8167-433f-fd1e-63e9cd699769"
      },
      "execution_count": 2,
      "outputs": [
        {
          "output_type": "stream",
          "name": "stdout",
          "text": [
            "The area of a rectangle with width 10 and height 5 is 50 square units.\n"
          ]
        }
      ]
    },
    {
      "cell_type": "code",
      "source": [
        "# formatting numbers\n",
        "\n",
        "pi = 3.14159\n",
        "formatted_pi = f\"The value of pi to two decimal places is {pi:.2f}.\"\n",
        "print(formatted_pi)"
      ],
      "metadata": {
        "colab": {
          "base_uri": "https://localhost:8080/"
        },
        "id": "J4BH3D6SeAlP",
        "outputId": "c3984155-b62c-4a53-f5ae-5e1929d75acd"
      },
      "execution_count": 3,
      "outputs": [
        {
          "output_type": "stream",
          "name": "stdout",
          "text": [
            "The value of pi to two decimal places is 3.14.\n"
          ]
        }
      ]
    },
    {
      "cell_type": "code",
      "source": [
        "# using f-strings with dictionaries\n",
        "\n",
        "person = {\"name\":\"Alice\",\"age\":25}\n",
        "person_info = f\"My name is {person['name']} and I am {person['age']} years old.\"\n",
        "print(person_info)"
      ],
      "metadata": {
        "colab": {
          "base_uri": "https://localhost:8080/"
        },
        "id": "mus2yvWveSuy",
        "outputId": "8fe4613f-9d2a-466f-eac1-f01376b9c09d"
      },
      "execution_count": 4,
      "outputs": [
        {
          "output_type": "stream",
          "name": "stdout",
          "text": [
            "My name is Alice and I am 25 years old.\n"
          ]
        }
      ]
    },
    {
      "cell_type": "code",
      "source": [
        "# f-strings with functions\n",
        "\n",
        "def greet(name):\n",
        "    return f\"Hello,{name}!\"\n",
        "name = \"Bob\"\n",
        "greeting = f\"{greet(name)}\"\n",
        "print(greeting)"
      ],
      "metadata": {
        "colab": {
          "base_uri": "https://localhost:8080/"
        },
        "id": "YmpE5WCpegp9",
        "outputId": "b50689d8-c0bf-4e5c-f337-5385e12dea0a"
      },
      "execution_count": 5,
      "outputs": [
        {
          "output_type": "stream",
          "name": "stdout",
          "text": [
            "Hello,Bob!\n"
          ]
        }
      ]
    },
    {
      "cell_type": "code",
      "source": [
        "# multiline f-strings\n",
        "\n",
        "first_name = \"john\"\n",
        "last_name = \"Doe\"\n",
        "address = \"123 Main St\"\n",
        "city = \"New York\"\n",
        "zipcode = \"10001\"\n",
        "contact_info = f\"\"\"\n",
        "Name: {first_name} {last_name}\n",
        "Address: {address}\n",
        "City: {city}\n",
        "Zipcode: {zipcode}\n",
        "\"\"\"\n",
        "print(contact_info)"
      ],
      "metadata": {
        "colab": {
          "base_uri": "https://localhost:8080/"
        },
        "id": "SmgDqkDsfMsu",
        "outputId": "09708fa7-5e68-4c40-9998-bc8061a50f32"
      },
      "execution_count": 7,
      "outputs": [
        {
          "output_type": "stream",
          "name": "stdout",
          "text": [
            "\n",
            "Name: john Doe\n",
            "Address: 123 Main St\n",
            "City: New York\n",
            "Zipcode: 10001\n",
            "\n"
          ]
        }
      ]
    },
    {
      "cell_type": "code",
      "source": [
        "#nested f-string\n",
        "name = \"eve\"\n",
        "age = 25\n",
        "nested_string = f\"{f'Name: {name},Age:{age}'}\"\n",
        "print(nested_string)"
      ],
      "metadata": {
        "colab": {
          "base_uri": "https://localhost:8080/"
        },
        "id": "apPQXZSlf-tF",
        "outputId": "ecf18cd1-8059-4c25-ea98-f85b71f58a0a"
      },
      "execution_count": 8,
      "outputs": [
        {
          "output_type": "stream",
          "name": "stdout",
          "text": [
            "Name: eve,Age:25\n"
          ]
        }
      ]
    },
    {
      "cell_type": "code",
      "source": [],
      "metadata": {
        "id": "AptLU3R-f-C1"
      },
      "execution_count": null,
      "outputs": []
    }
  ]
}