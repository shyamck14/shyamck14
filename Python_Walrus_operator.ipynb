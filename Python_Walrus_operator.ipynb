{
  "nbformat": 4,
  "nbformat_minor": 0,
  "metadata": {
    "colab": {
      "provenance": [],
      "authorship_tag": "ABX9TyMkIDj3umVLD36AYJyv5JkL",
      "include_colab_link": true
    },
    "kernelspec": {
      "name": "python3",
      "display_name": "Python 3"
    },
    "language_info": {
      "name": "python"
    }
  },
  "cells": [
    {
      "cell_type": "markdown",
      "metadata": {
        "id": "view-in-github",
        "colab_type": "text"
      },
      "source": [
        "<a href=\"https://colab.research.google.com/github/shyamck14/shyamck14/blob/master/Python_Walrus_operator.ipynb\" target=\"_parent\"><img src=\"https://colab.research.google.com/assets/colab-badge.svg\" alt=\"Open In Colab\"/></a>"
      ]
    },
    {
      "cell_type": "markdown",
      "source": [
        "# **Walrus Operator**\n",
        "\n",
        "* It is a new feature introduced in python 3.8\n",
        "\n",
        "* The walrus operartor is also called as **New Assignment Expression** in python\n",
        "\n",
        "* A way to assign to variables within an expression using notation\n",
        "\n",
        " := ( colon and equal sign together )\n",
        "\n",
        " : eyes\n",
        "\n",
        " = tusk\n",
        "\n",
        " resembles walrus\n",
        "\n",
        "Ex:\n",
        "\n",
        "CONVENTIONAL WAY\n",
        "\n",
        "name = 'john'\n",
        "print (name)\n",
        "\n",
        "WALRUS WAY\n",
        "\n",
        "print (name := 'john')\n",
        "\n",
        "* Walrus operator combines the steps of **Declration** & **Implementation** at same time.\n",
        "\n",
        "\n",
        "\n",
        "\n",
        "\n",
        "\n",
        "\n",
        "\n"
      ],
      "metadata": {
        "id": "3DmzTxLsoPw0"
      }
    },
    {
      "cell_type": "code",
      "source": [
        "# 1.Simplifying loops\n",
        "# Before walrus operator\n",
        "\n",
        "data = [\"john\",\"steve\"]\n",
        "n = len(data)\n",
        "if n > 0:\n",
        "  print (f\"Data length is {n}\")\n",
        "\n",
        "#with the walrus operator\n",
        "if (n := len(data)) > 0:\n",
        "  print (f\"Data length is {n}\")"
      ],
      "metadata": {
        "colab": {
          "base_uri": "https://localhost:8080/"
        },
        "id": "h06hBOzMy-Yp",
        "outputId": "75af5099-7cea-4634-8301-23a97d391e23"
      },
      "execution_count": 6,
      "outputs": [
        {
          "output_type": "stream",
          "name": "stdout",
          "text": [
            "Data length is 2\n",
            "Data length is 2\n"
          ]
        }
      ]
    },
    {
      "cell_type": "markdown",
      "source": [],
      "metadata": {
        "id": "1O2SHyqU2FUr"
      }
    },
    {
      "cell_type": "code",
      "source": [
        "# 2.While loop\n",
        "# Before walrus operator\n",
        "\n",
        "line = input(\"Enter a line: \")\n",
        "while line != \"quit\":\n",
        "  print (f\"You entered {line}\")\n",
        "  line = input(\"Enter a line: \")\n",
        "\n",
        "  #with the walrus operator\n",
        "while (line := input(\"Enter a line: \")) != \"quit\":\n",
        "  print (f\"You entered {line}\")"
      ],
      "metadata": {
        "colab": {
          "base_uri": "https://localhost:8080/"
        },
        "id": "TGnWVO5z2Hgd",
        "outputId": "0f697a8e-7651-4528-8c1a-1bc004119f8f"
      },
      "execution_count": 8,
      "outputs": [
        {
          "name": "stdout",
          "output_type": "stream",
          "text": [
            "Enter a line: quit\n",
            "Enter a line: quit\n"
          ]
        }
      ]
    },
    {
      "cell_type": "code",
      "source": [
        "#3.List comprehension\n",
        "#Before walrus operator\n",
        "\n",
        "results = []\n",
        "for value in data:\n",
        "  if len(value) > 10:\n",
        "    results.append(value)\n",
        "print (results)\n",
        "\n",
        "#with the walrus operator\n",
        "results = [val for val in data if (length := len(val)) > 10]\n",
        "print (results)"
      ],
      "metadata": {
        "colab": {
          "base_uri": "https://localhost:8080/"
        },
        "id": "WLF5--nE2En1",
        "outputId": "fc3c382c-fc2e-4b49-dab7-d5eccbfd83bf"
      },
      "execution_count": 15,
      "outputs": [
        {
          "output_type": "stream",
          "name": "stdout",
          "text": [
            "[]\n",
            "[]\n"
          ]
        }
      ]
    }
  ]
}