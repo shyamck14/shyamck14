{
  "nbformat": 4,
  "nbformat_minor": 0,
  "metadata": {
    "colab": {
      "provenance": [],
      "authorship_tag": "ABX9TyMuWuib2SY4MqPzpt0zXuRc",
      "include_colab_link": true
    },
    "kernelspec": {
      "name": "python3",
      "display_name": "Python 3"
    },
    "language_info": {
      "name": "python"
    }
  },
  "cells": [
    {
      "cell_type": "markdown",
      "metadata": {
        "id": "view-in-github",
        "colab_type": "text"
      },
      "source": [
        "<a href=\"https://colab.research.google.com/github/shyamck14/shyamck14/blob/master/Python_conditionals.ipynb\" target=\"_parent\"><img src=\"https://colab.research.google.com/assets/colab-badge.svg\" alt=\"Open In Colab\"/></a>"
      ]
    },
    {
      "cell_type": "markdown",
      "source": [
        "Conditional Statements\n",
        "\n",
        "* In Python, conditional statements are\n",
        "- if statement\n",
        "- if else statement\n",
        "- if elif else statement\n",
        "- nested if else statement"
      ],
      "metadata": {
        "id": "KSGkt2T6Ksl6"
      }
    },
    {
      "cell_type": "code",
      "execution_count": 1,
      "metadata": {
        "colab": {
          "base_uri": "https://localhost:8080/"
        },
        "id": "ypJgyW8iKjZ8",
        "outputId": "e2ab6e15-f006-46f0-af46-9072a306bad6"
      },
      "outputs": [
        {
          "output_type": "stream",
          "name": "stdout",
          "text": [
            "Enter a number: 7\n",
            "Odd\n"
          ]
        }
      ],
      "source": [
        "#check even or odd\n",
        "\n",
        "number = int(input(\"Enter a number: \"))\n",
        "\n",
        "if number % 2 == 0:\n",
        "    print(\"Even\")\n",
        "else:\n",
        "    print(\"Odd\")"
      ]
    },
    {
      "cell_type": "code",
      "source": [
        "# find the largest number\n",
        "\n",
        "num1 = int(input(\"Enter first number: \"))\n",
        "num2 = int(input(\"Enter second number: \"))\n",
        "num3 = int(input(\"Enter third number: \"))\n",
        "\n",
        "if num1 > num2 and num1 > num3:\n",
        "    print(num1, \"is the largest number\")\n",
        "elif num2 > num1 and num2 > num3:\n",
        "    print(num2, \"is the largest number\")\n",
        "else:\n",
        "    print(num3, \"is the largest number\")"
      ],
      "metadata": {
        "colab": {
          "base_uri": "https://localhost:8080/"
        },
        "id": "RAJ7yAT3L-hS",
        "outputId": "10557278-e87e-4232-b2fc-60f8f0e90233"
      },
      "execution_count": 2,
      "outputs": [
        {
          "output_type": "stream",
          "name": "stdout",
          "text": [
            "Enter first number: 431\n",
            "Enter second number: 121\n",
            "Enter third number: 652\n",
            "652 is the largest number\n"
          ]
        }
      ]
    },
    {
      "cell_type": "code",
      "source": [
        "# check vote eligibility\n",
        "\n",
        "age = int(input(\"Enter your age: \"))\n",
        "\n",
        "if age >= 18:\n",
        "    print(\"You are eligible to vote\")\n",
        "else:\n",
        "    print(\"You are not eligible to vote\")"
      ],
      "metadata": {
        "id": "oN7dp6I8eV53"
      },
      "execution_count": null,
      "outputs": []
    },
    {
      "cell_type": "code",
      "source": [
        "# grade calculator\n",
        "\n",
        "marks = int(input(\"Enter your marks: \"))\n",
        "\n",
        "if marks >= 90:\n",
        "    print(\"Grade A\")\n",
        "    if marks >= 80:\n",
        "        print(\"Grade B\")\n",
        "        if marks >= 70:\n",
        "            print(\"Grade C\")\n",
        "            if marks >= 60:\n",
        "                print(\"Grade D\")\n",
        "                if marks >= 50:\n",
        "                    print(\"Grade E\")\n",
        "                    if marks < 50:\n",
        "                        print(\"Grade F\")\n",
        ""
      ],
      "metadata": {
        "id": "sGVxwZfNem5y"
      },
      "execution_count": null,
      "outputs": []
    },
    {
      "cell_type": "code",
      "source": [
        "# leap year checker\n",
        "\n",
        "year = int(input(\"Enter a year: \"))\n",
        "if year % 4 == 0:\n",
        "    if year % 100 == 0:\n",
        "        if year % 400 == 0:\n",
        "            print(year, \"is a leap year\")\n",
        "        else:\n",
        "            print(year, \"is not a leap year\")\n",
        "    else:\n",
        "        print(year, \"is a leap year\")\n",
        "else:\n",
        "    print(year, \"is not a leap year\")"
      ],
      "metadata": {
        "id": "wYmOCd8SfOL3"
      },
      "execution_count": null,
      "outputs": []
    }
  ]
}