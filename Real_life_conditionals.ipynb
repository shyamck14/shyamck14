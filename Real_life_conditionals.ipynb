{
  "nbformat": 4,
  "nbformat_minor": 0,
  "metadata": {
    "colab": {
      "provenance": [],
      "authorship_tag": "ABX9TyPBo+av2SGBgItiGvMCjJ3R",
      "include_colab_link": true
    },
    "kernelspec": {
      "name": "python3",
      "display_name": "Python 3"
    },
    "language_info": {
      "name": "python"
    }
  },
  "cells": [
    {
      "cell_type": "markdown",
      "metadata": {
        "id": "view-in-github",
        "colab_type": "text"
      },
      "source": [
        "<a href=\"https://colab.research.google.com/github/shyamck14/shyamck14/blob/master/Real_life_conditionals.ipynb\" target=\"_parent\"><img src=\"https://colab.research.google.com/assets/colab-badge.svg\" alt=\"Open In Colab\"/></a>"
      ]
    },
    {
      "cell_type": "markdown",
      "source": [
        "Real life python programs that utilize conditional statements\n",
        "1. To do list with priority\n",
        "2. Temperature converter\n",
        "3. Simple banking system\n",
        "4. Basic password validator"
      ],
      "metadata": {
        "id": "Ki23Fm4JgZ2Y"
      }
    },
    {
      "cell_type": "code",
      "execution_count": 1,
      "metadata": {
        "colab": {
          "base_uri": "https://localhost:8080/"
        },
        "id": "oTIHVGTegM7I",
        "outputId": "4f1ad71b-2c65-4ee3-cc4d-c59a30992d9e"
      },
      "outputs": [
        {
          "output_type": "stream",
          "name": "stdout",
          "text": [
            "Task 1\n",
            "Task 2\n",
            "Task 3\n"
          ]
        }
      ],
      "source": [
        "# 1. to-do list with priority\n",
        "\n",
        "tasks = [\n",
        "    {\"Learn\": \"Task 1\", \"priority\": \"HIGH\"},\n",
        "    {\"Excercise\": \"Task 2\", \"priority\": \"MEDIUM\"},\n",
        "    {\"sleep\": \"Task 3\", \"priority\": \"LOW\"},\n",
        "]\n",
        "for task in tasks:\n",
        "    if task[\"priority\"] == \"HIGH\":\n",
        "        print(task[\"Learn\"])\n",
        "    elif task[\"priority\"] == \"MEDIUM\":\n",
        "        print(task[\"Excercise\"])\n",
        "    else:\n",
        "        print(task[\"sleep\"])"
      ]
    },
    {
      "cell_type": "code",
      "source": [
        "# 2. Temperature converter\n",
        "\n",
        "temperature = float(input(\"Enter the temperature: \"))\n",
        "unit = input(\"Enter the unit (C/F): \")\n",
        "\n",
        "if unit == \"C\":\n",
        "    fahrenheit = (temperature * 9/5) + 32\n",
        "    print(f\"{temperature} degrees Celsius is equal to {fahrenheit} degrees Fahrenheit.\")\n",
        "\n",
        "elif unit == \"F\":\n",
        "    celsius = (temperature - 32) * 5/9\n",
        "    print(f\"{temperature} degrees Fahrenheit is equal to {celsius} degrees Celsius.\")\n",
        "\n",
        "else:\n",
        "    print(\"Invalid unit. Please enter 'C' for Celsius or 'F' for Fahrenheit.\")"
      ],
      "metadata": {
        "colab": {
          "base_uri": "https://localhost:8080/"
        },
        "id": "mO2i6gR-iqLr",
        "outputId": "ba05da1f-e80a-4382-a56f-2832ceff94bc"
      },
      "execution_count": 4,
      "outputs": [
        {
          "output_type": "stream",
          "name": "stdout",
          "text": [
            "Enter the temperature: 45\n",
            "Enter the unit (C/F): C\n",
            "45.0 degrees Celsius is equal to 113.0 degrees Fahrenheit.\n"
          ]
        }
      ]
    },
    {
      "cell_type": "code",
      "source": [
        "# 3. simple banking system\n",
        "\n",
        "balance = 1000\n",
        "\n",
        "def check_balance():\n",
        "    print(f\"Your balance is ${balance}.\")\n",
        "\n",
        "    def withdraw_money():\n",
        "        amount = float(input(\"Enter the amount to withdraw: \"))\n",
        "        if amount > balance:\n",
        "            print(\"Insufficient funds.\")\n",
        "        else:\n",
        "            balance -= amount\n",
        "            print(f\"Withdrew ${amount}. Your new balance is ${balance}.\")\n",
        "\n",
        "            while True:\n",
        "              action = input(\"ENter an action (check balance/withdraw money/exit): \").lower()\n",
        "              if action == \"check balance\":\n",
        "                  check_balance()\n",
        "              elif action == \"withdraw money\":\n",
        "                      withdraw_money()\n",
        "              elif action == \"exit\":\n",
        "                          print(\"Thank you for using our banking system.\")\n",
        "                          break\n",
        "              else:\n",
        "                          print(\"Invalid action. Please try again.\")"
      ],
      "metadata": {
        "id": "pTDYQfR9mR2E"
      },
      "execution_count": 15,
      "outputs": []
    },
    {
      "cell_type": "code",
      "source": [
        "# 4. basic password validator\n",
        "\n",
        "password = input(\"Enter a password: \")\n",
        "\n",
        "if len(password) < 8:\n",
        "    print(\"Password must be at least 8 characters long.\")\n",
        "elif not any(char.isdigit() for char in password):\n",
        "    print(\"Password must contain at least one digit.\")\n",
        "elif not any(char.isupper() for char in password):\n",
        "    print(\"Password must contain at least one uppercase letter.\")\n",
        "else:\n",
        "    print(\"Password is valid.\")"
      ],
      "metadata": {
        "colab": {
          "base_uri": "https://localhost:8080/"
        },
        "id": "zD0J-e-hsQ1e",
        "outputId": "e7d8b58a-df8a-4148-bd21-5ec983d809fd"
      },
      "execution_count": 14,
      "outputs": [
        {
          "output_type": "stream",
          "name": "stdout",
          "text": [
            "Enter a password: hioahhuess\n",
            "Password must contain at least one digit.\n"
          ]
        }
      ]
    }
  ]
}